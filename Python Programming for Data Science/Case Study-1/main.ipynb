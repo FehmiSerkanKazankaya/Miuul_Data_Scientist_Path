{
  "nbformat": 4,
  "nbformat_minor": 0,
  "metadata": {
    "colab": {
      "provenance": []
    },
    "kernelspec": {
      "name": "python3",
      "display_name": "Python 3"
    },
    "language_info": {
      "name": "python"
    }
  },
  "cells": [
    {
      "cell_type": "markdown",
      "source": [
        "## **PYTHON ALIŞTIRMALAR**\n"
      ],
      "metadata": {
        "id": "j4cincjrSmDC"
      }
    },
    {
      "cell_type": "markdown",
      "source": [
        "### Görev 1: Verilen değerlerin veri yapılarını inceleyiniz."
      ],
      "metadata": {
        "id": "n6DdCxK9SNX-"
      }
    },
    {
      "cell_type": "code",
      "execution_count": null,
      "metadata": {
        "colab": {
          "base_uri": "https://localhost:8080/"
        },
        "id": "4y4Li-EhSF5z",
        "outputId": "f2ccedb7-6a66-4c63-892a-815a6769de38"
      },
      "outputs": [
        {
          "output_type": "execute_result",
          "data": {
            "text/plain": [
              "int"
            ]
          },
          "metadata": {},
          "execution_count": 1
        }
      ],
      "source": [
        "x = 8\n",
        "type(x)"
      ]
    },
    {
      "cell_type": "code",
      "source": [
        "y = 3.2\n",
        "type(y)"
      ],
      "metadata": {
        "colab": {
          "base_uri": "https://localhost:8080/"
        },
        "id": "hBKxu35iS8eK",
        "outputId": "c250d001-7f78-4876-d845-9e678e7b296b"
      },
      "execution_count": null,
      "outputs": [
        {
          "output_type": "execute_result",
          "data": {
            "text/plain": [
              "float"
            ]
          },
          "metadata": {},
          "execution_count": 2
        }
      ]
    },
    {
      "cell_type": "code",
      "source": [
        "z = 8j + 18\n",
        "type(z)"
      ],
      "metadata": {
        "colab": {
          "base_uri": "https://localhost:8080/"
        },
        "id": "SzW-vbrmS-AH",
        "outputId": "6ec2fcf9-2c99-4cde-f1bc-dec306e15822"
      },
      "execution_count": null,
      "outputs": [
        {
          "output_type": "execute_result",
          "data": {
            "text/plain": [
              "complex"
            ]
          },
          "metadata": {},
          "execution_count": 3
        }
      ]
    },
    {
      "cell_type": "code",
      "source": [
        "a = \"Hello World\"\n",
        "type(a)"
      ],
      "metadata": {
        "colab": {
          "base_uri": "https://localhost:8080/"
        },
        "id": "HE7klc5pTBLE",
        "outputId": "4b35ca26-037c-4d02-9669-903be88b491f"
      },
      "execution_count": null,
      "outputs": [
        {
          "output_type": "execute_result",
          "data": {
            "text/plain": [
              "str"
            ]
          },
          "metadata": {},
          "execution_count": 4
        }
      ]
    },
    {
      "cell_type": "code",
      "source": [
        "b = True\n",
        "type(b)"
      ],
      "metadata": {
        "colab": {
          "base_uri": "https://localhost:8080/"
        },
        "id": "gahBZ9YoTBao",
        "outputId": "e9aae0c1-97f2-4fac-9de0-043bf0dddcb9"
      },
      "execution_count": null,
      "outputs": [
        {
          "output_type": "execute_result",
          "data": {
            "text/plain": [
              "bool"
            ]
          },
          "metadata": {},
          "execution_count": 5
        }
      ]
    },
    {
      "cell_type": "code",
      "source": [
        "c = 23 < 22\n",
        "type(c)"
      ],
      "metadata": {
        "colab": {
          "base_uri": "https://localhost:8080/"
        },
        "id": "cvbjD8ctTBor",
        "outputId": "aca59fe4-081f-4e66-f77d-6144972c9864"
      },
      "execution_count": null,
      "outputs": [
        {
          "output_type": "execute_result",
          "data": {
            "text/plain": [
              "bool"
            ]
          },
          "metadata": {},
          "execution_count": 6
        }
      ]
    },
    {
      "cell_type": "code",
      "source": [
        "l = [1, 2, 3, 4,\"String\",3.2, False]\n",
        "type(l)\n",
        "# Sıralıdır\n",
        "# Kapsayıcıdır\n",
        "# Değiştirilebilir"
      ],
      "metadata": {
        "colab": {
          "base_uri": "https://localhost:8080/"
        },
        "id": "3Pve85PuTF3p",
        "outputId": "bee56de6-3549-4235-d3cd-0559cd3dc60d"
      },
      "execution_count": null,
      "outputs": [
        {
          "output_type": "execute_result",
          "data": {
            "text/plain": [
              "list"
            ]
          },
          "metadata": {},
          "execution_count": 7
        }
      ]
    },
    {
      "cell_type": "code",
      "source": [
        "d = {\"Name\": \"Jake\",\n",
        "     \"Age\": [27,56],\n",
        "     \"Adress\": \"Downtown\"}\n",
        "type(d)\n",
        "# Değiştirilebilir\n",
        "# Kapsayıcı\n",
        "# Sırasız\n",
        "# Key değerleri farklı olacak"
      ],
      "metadata": {
        "colab": {
          "base_uri": "https://localhost:8080/"
        },
        "id": "sx9y1iQHTNb9",
        "outputId": "797ae126-4dd3-4114-f175-68b5af541e30"
      },
      "execution_count": null,
      "outputs": [
        {
          "output_type": "execute_result",
          "data": {
            "text/plain": [
              "dict"
            ]
          },
          "metadata": {},
          "execution_count": 8
        }
      ]
    },
    {
      "cell_type": "code",
      "source": [
        "t = (\"Machine Learning\", \"Data Science\")\n",
        "type(t)\n",
        "# Değiştirilemez\n",
        "# Kapsayıcı\n",
        "# Sıralı"
      ],
      "metadata": {
        "colab": {
          "base_uri": "https://localhost:8080/"
        },
        "id": "ZIVUFdWpTOoY",
        "outputId": "4da624c9-d293-40be-f598-6c4900d5f280"
      },
      "execution_count": null,
      "outputs": [
        {
          "output_type": "execute_result",
          "data": {
            "text/plain": [
              "tuple"
            ]
          },
          "metadata": {},
          "execution_count": 9
        }
      ]
    },
    {
      "cell_type": "code",
      "source": [
        "s = {\"Python\", \"Machine Learning\", \"Data Science\",\"Python\"}\n",
        "type(s)\n",
        "# Değiştirilebilir\n",
        "# Sırasız + Eşsiz\n",
        "# Kapsayıcı"
      ],
      "metadata": {
        "colab": {
          "base_uri": "https://localhost:8080/"
        },
        "id": "tzBpD_vNTUVJ",
        "outputId": "372e2151-a1ca-407f-eb43-a46de483c28e"
      },
      "execution_count": null,
      "outputs": [
        {
          "output_type": "execute_result",
          "data": {
            "text/plain": [
              "set"
            ]
          },
          "metadata": {},
          "execution_count": 10
        }
      ]
    },
    {
      "cell_type": "markdown",
      "source": [
        "### GÖREV 2: Verilen string ifadenin tüm harflerini büyük harfe çeviriniz. Virgül ve nokta yerine space koyunuz, kelime kelime ayırınız."
      ],
      "metadata": {
        "id": "Dy1gsMOeTaS4"
      }
    },
    {
      "cell_type": "code",
      "source": [
        "text = \"The goal is to turn data into information, and information into insight.\"\n",
        "text.upper().replace(\",\",\" \").replace(\".\",\" \").split()"
      ],
      "metadata": {
        "colab": {
          "base_uri": "https://localhost:8080/"
        },
        "id": "gejrU4_GTo0O",
        "outputId": "b213e5a6-b2a1-4fd2-f1fc-d968cd7ebef5"
      },
      "execution_count": null,
      "outputs": [
        {
          "output_type": "execute_result",
          "data": {
            "text/plain": [
              "['THE',\n",
              " 'GOAL',\n",
              " 'IS',\n",
              " 'TO',\n",
              " 'TURN',\n",
              " 'DATA',\n",
              " 'INTO',\n",
              " 'INFORMATION',\n",
              " 'AND',\n",
              " 'INFORMATION',\n",
              " 'INTO',\n",
              " 'INSIGHT']"
            ]
          },
          "metadata": {},
          "execution_count": 11
        }
      ]
    },
    {
      "cell_type": "markdown",
      "source": [
        "### GÖREV 3: Verilen liste için aşağıdaki görevleri yapınız."
      ],
      "metadata": {
        "id": "nuRePXK4VHxB"
      }
    },
    {
      "cell_type": "code",
      "source": [
        "lst = [\"D\",\"A\",\"T\",\"A\",\"S\",\"C\",\"I\",\"E\",\"N\",\"C\",\"E\"]"
      ],
      "metadata": {
        "id": "9fo8XTdLVKB0"
      },
      "execution_count": null,
      "outputs": []
    },
    {
      "cell_type": "code",
      "source": [
        "# Adım 1: Verilen listenin eleman sayısına bakın.\n",
        "len(lst)"
      ],
      "metadata": {
        "colab": {
          "base_uri": "https://localhost:8080/"
        },
        "id": "3WH6GWljVMRc",
        "outputId": "c4841bb6-7b83-4739-9ad6-105bdb3b879b"
      },
      "execution_count": null,
      "outputs": [
        {
          "output_type": "execute_result",
          "data": {
            "text/plain": [
              "11"
            ]
          },
          "metadata": {},
          "execution_count": 13
        }
      ]
    },
    {
      "cell_type": "code",
      "source": [
        "# Adım 2: Sıfırıncı ve onuncu index'teki elemanları çağırın.\n",
        "lst[0], lst[10]"
      ],
      "metadata": {
        "colab": {
          "base_uri": "https://localhost:8080/"
        },
        "id": "039LB42nVVHv",
        "outputId": "f362a952-25cb-422d-a480-08cd737e63dc"
      },
      "execution_count": null,
      "outputs": [
        {
          "output_type": "execute_result",
          "data": {
            "text/plain": [
              "('D', 'E')"
            ]
          },
          "metadata": {},
          "execution_count": 14
        }
      ]
    },
    {
      "cell_type": "code",
      "source": [
        "# Adım 3: Verilen liste üzerinden [\"D\",\"A\",\"T\",\"A\"] listesi oluşturun.\n",
        "lst[0:4]"
      ],
      "metadata": {
        "colab": {
          "base_uri": "https://localhost:8080/"
        },
        "id": "bebov4U-VlBC",
        "outputId": "50a22ec6-4996-4173-a856-cd832b9e9fda"
      },
      "execution_count": null,
      "outputs": [
        {
          "output_type": "execute_result",
          "data": {
            "text/plain": [
              "['D', 'A', 'T', 'A']"
            ]
          },
          "metadata": {},
          "execution_count": 15
        }
      ]
    },
    {
      "cell_type": "code",
      "source": [
        "# Adım 4: Sekizinci index'teki elemanı silin.\n",
        "lst.pop(8)\n",
        "lst"
      ],
      "metadata": {
        "colab": {
          "base_uri": "https://localhost:8080/"
        },
        "id": "GBH00D1fVtCu",
        "outputId": "d909959c-5753-4dda-b4df-887819ec3a12"
      },
      "execution_count": null,
      "outputs": [
        {
          "output_type": "execute_result",
          "data": {
            "text/plain": [
              "['D', 'A', 'T', 'A', 'S', 'C', 'I', 'E', 'C', 'E']"
            ]
          },
          "metadata": {},
          "execution_count": 16
        }
      ]
    },
    {
      "cell_type": "code",
      "source": [
        "# Adım 5: Yeni bir eleman ekleyin.\n",
        "lst.append(101)\n",
        "lst"
      ],
      "metadata": {
        "colab": {
          "base_uri": "https://localhost:8080/"
        },
        "id": "CjZO8qRZV6Pz",
        "outputId": "e4a216ba-a88a-4d9e-e3fb-24b19b532fdc"
      },
      "execution_count": null,
      "outputs": [
        {
          "output_type": "execute_result",
          "data": {
            "text/plain": [
              "['D', 'A', 'T', 'A', 'S', 'C', 'I', 'E', 'C', 'E', 101]"
            ]
          },
          "metadata": {},
          "execution_count": 17
        }
      ]
    },
    {
      "cell_type": "code",
      "source": [
        "# Adım 6: Sekizinci index'e  \"N\" elemanını tekrar ekleyin.\n",
        "lst.insert(8,\"N\")\n",
        "lst"
      ],
      "metadata": {
        "colab": {
          "base_uri": "https://localhost:8080/"
        },
        "id": "YbYZafUkWBUp",
        "outputId": "41fa2677-abac-4ae5-83a0-ce4cea81d0b5"
      },
      "execution_count": null,
      "outputs": [
        {
          "output_type": "execute_result",
          "data": {
            "text/plain": [
              "['D', 'A', 'T', 'A', 'S', 'C', 'I', 'E', 'N', 'C', 'E', 101]"
            ]
          },
          "metadata": {},
          "execution_count": 18
        }
      ]
    },
    {
      "cell_type": "markdown",
      "source": [
        "### GÖREV 4: Verilen sözlük yapısına aşağıdaki adımları uygulayınız."
      ],
      "metadata": {
        "id": "g79cQXgzWoCg"
      }
    },
    {
      "cell_type": "code",
      "source": [
        "dict = {'Christian': [\"America\",18],\n",
        "        'Daisy':[\"England\",12],\n",
        "        'Antonio':[\"Spain\",22],\n",
        "        'Dante':[\"Italy\",25]}"
      ],
      "metadata": {
        "id": "zv_VGNqeWlml"
      },
      "execution_count": null,
      "outputs": []
    },
    {
      "cell_type": "code",
      "source": [
        "# Adım 1: Key değerlerine erişiniz.\n",
        "dict.keys()"
      ],
      "metadata": {
        "colab": {
          "base_uri": "https://localhost:8080/"
        },
        "id": "syo62KR-WsMI",
        "outputId": "1d57be6b-fb46-4971-f867-974f0a59940a"
      },
      "execution_count": null,
      "outputs": [
        {
          "output_type": "execute_result",
          "data": {
            "text/plain": [
              "dict_keys(['Christian', 'Daisy', 'Antonio', 'Dante'])"
            ]
          },
          "metadata": {},
          "execution_count": 20
        }
      ]
    },
    {
      "cell_type": "code",
      "source": [
        "# Adım 2: Value'lara erişiniz.\n",
        "dict.values()"
      ],
      "metadata": {
        "colab": {
          "base_uri": "https://localhost:8080/"
        },
        "id": "dtGzSptNW1QP",
        "outputId": "abb22c24-ef42-4b8f-8a9f-246a1184a61e"
      },
      "execution_count": null,
      "outputs": [
        {
          "output_type": "execute_result",
          "data": {
            "text/plain": [
              "dict_values([['America', 18], ['England', 12], ['Spain', 22], ['Italy', 25]])"
            ]
          },
          "metadata": {},
          "execution_count": 21
        }
      ]
    },
    {
      "cell_type": "code",
      "source": [
        "# Adım 3: Daisy key'ine ait 12 değerini 13 olarak güncelleyiniz.\n",
        "dict.update({\"Daisy\":[\"England\",13]})\n",
        "dict\n",
        "\n",
        "#dict[\"Daisy\"][1] = 13\n",
        "#dict"
      ],
      "metadata": {
        "colab": {
          "base_uri": "https://localhost:8080/"
        },
        "id": "S0Gfk1IIW6ej",
        "outputId": "c802f2c7-9caa-479d-fe48-474748aae719"
      },
      "execution_count": null,
      "outputs": [
        {
          "output_type": "execute_result",
          "data": {
            "text/plain": [
              "{'Christian': ['America', 18],\n",
              " 'Daisy': ['England', 13],\n",
              " 'Antonio': ['Spain', 22],\n",
              " 'Dante': ['Italy', 25]}"
            ]
          },
          "metadata": {},
          "execution_count": 24
        }
      ]
    },
    {
      "cell_type": "code",
      "source": [
        "# Adım 4: Key değeri Ahmet value değeri [Turkey,24] olan yeni bir değer ekleyiniz."
      ],
      "metadata": {
        "id": "c0TB1OhdW6j4"
      },
      "execution_count": null,
      "outputs": []
    },
    {
      "cell_type": "code",
      "source": [
        "dict.update({\"Ahmet\":[\"Turkey\",24]})\n",
        "dict"
      ],
      "metadata": {
        "colab": {
          "base_uri": "https://localhost:8080/"
        },
        "id": "lKE8PeQIW6nY",
        "outputId": "1ec17d78-6ef1-4900-aef6-d002d70862c1"
      },
      "execution_count": null,
      "outputs": [
        {
          "output_type": "execute_result",
          "data": {
            "text/plain": [
              "{'Christian': ['America', 18],\n",
              " 'Daisy': ['England', 13],\n",
              " 'Antonio': ['Spain', 22],\n",
              " 'Dante': ['Italy', 25],\n",
              " 'Ahmet': ['Turkey', 24]}"
            ]
          },
          "metadata": {},
          "execution_count": 26
        }
      ]
    },
    {
      "cell_type": "code",
      "source": [
        "# Adım 5: Antonio'yu dictionary'den siliniz.\n",
        "dict.pop(\"Antonio\")\n",
        "dict"
      ],
      "metadata": {
        "colab": {
          "base_uri": "https://localhost:8080/"
        },
        "id": "Oh6dxa-tYC25",
        "outputId": "e513a928-8614-4764-832b-2abd02fd603d"
      },
      "execution_count": null,
      "outputs": [
        {
          "output_type": "execute_result",
          "data": {
            "text/plain": [
              "{'Christian': ['America', 18],\n",
              " 'Daisy': ['England', 13],\n",
              " 'Dante': ['Italy', 25],\n",
              " 'Ahmet': ['Turkey', 24]}"
            ]
          },
          "metadata": {},
          "execution_count": 27
        }
      ]
    },
    {
      "cell_type": "markdown",
      "source": [
        "### GÖREV 5: Arguman olarak bir liste alan, listenin içerisindeki tek ve çift sayıları ayrı listelere atıyan ve bu listeleri return eden fonskiyon yazınız."
      ],
      "metadata": {
        "id": "29-2fQMBYWjF"
      }
    },
    {
      "cell_type": "code",
      "source": [
        "l = [2,13,18,93,22]"
      ],
      "metadata": {
        "id": "7OuHBWuSW6qV"
      },
      "execution_count": 12,
      "outputs": []
    },
    {
      "cell_type": "code",
      "source": [
        "even_list = []\n",
        "odd_list = []\n",
        "def func(list):\n",
        "  for i in list:\n",
        "    if i % 2 == 0:\n",
        "      even_list.append(i)\n",
        "    else:\n",
        "      odd_list.append(i)\n",
        "\n",
        "  return even_list, odd_list\n",
        "\n",
        "even_list,odd_list = func(l)\n",
        "\n",
        "print(even_list)\n",
        "print(odd_list)\n"
      ],
      "metadata": {
        "colab": {
          "base_uri": "https://localhost:8080/"
        },
        "id": "Y1KSn1fzW6s0",
        "outputId": "01837461-bfda-48f4-da38-2878a2af3ef1"
      },
      "execution_count": 16,
      "outputs": [
        {
          "output_type": "stream",
          "name": "stdout",
          "text": [
            "[2, 18, 22]\n",
            "[13, 93]\n"
          ]
        }
      ]
    },
    {
      "cell_type": "markdown",
      "source": [
        "### GÖREV 6: Aşağıda verilen listede mühendislik ve tıp fakülterinde dereceye giren öğrencilerin isimleri bulunmaktadır. Sırasıyla ilk üç öğrenci mühendislik fakültesinin başarı sırasını temsil ederken son üç öğrenci de tıp fakültesi öğrenci sırasına aittir. Enumarate kullanarak öğrenci derecelerini fakülte özelinde yazdırınız."
      ],
      "metadata": {
        "id": "cRzHiRjIDFGW"
      }
    },
    {
      "cell_type": "code",
      "source": [
        "ogrenciler = [\"Ali\",\"Veli\",\"Ayşe\",\"Talat\",\"Zeynep\",\"Ece\"]"
      ],
      "metadata": {
        "id": "CrnDYTm3DToo"
      },
      "execution_count": 1,
      "outputs": []
    },
    {
      "cell_type": "code",
      "source": [
        "for i,x in enumerate(ogrenciler,1):\n",
        "  if i<4:\n",
        "    print(\"Mühendislik Fakültesi\",i,\". öğrenci:\",x)\n",
        "\n",
        "  else:\n",
        "    print(\"Tıp Fakültesi\",i,\". öğrenci:\",x)\n"
      ],
      "metadata": {
        "colab": {
          "base_uri": "https://localhost:8080/"
        },
        "id": "M7vi1eNjDUvB",
        "outputId": "bbdf88dc-3a9c-4466-fce5-548ed320c345"
      },
      "execution_count": 4,
      "outputs": [
        {
          "output_type": "stream",
          "name": "stdout",
          "text": [
            "Mühendislik Fakültesi 1 . öğrenci: Ali\n",
            "Mühendislik Fakültesi 2 . öğrenci: Veli\n",
            "Mühendislik Fakültesi 3 . öğrenci: Ayşe\n",
            "Tıp Fakültesi 4 . öğrenci: Talat\n",
            "Tıp Fakültesi 5 . öğrenci: Zeynep\n",
            "Tıp Fakültesi 6 . öğrenci: Ece\n"
          ]
        }
      ]
    },
    {
      "cell_type": "markdown",
      "source": [
        "### GÖREV 7: Aşağıda 3 adet liste verilmiştir. Listelerde sırası ile bir dersin kodu, kredisi ve kontenjan bilgileri yer almaktadır. Zip kullanarak ders bilgilerini bastırınız."
      ],
      "metadata": {
        "id": "rBDyc0MIFS-_"
      }
    },
    {
      "cell_type": "code",
      "source": [
        "ders_kodu = [\"CMP1005\",\"PSY1001\",\"HUK1005\",\"SEN2204\"]\n",
        "kredi = [3,4,2,4]\n",
        "kontenjan = [30,75,150,25]"
      ],
      "metadata": {
        "id": "xp-YGMr-FP4I"
      },
      "execution_count": 5,
      "outputs": []
    },
    {
      "cell_type": "code",
      "source": [
        "for ders_kodu, kredi, kontenjan in zip(ders_kodu, kredi, kontenjan):\n",
        "  print(f\"Kredisi {kredi} olan {ders_kodu} kodlu dersin kontenjanı {kontenjan} kişidir.\")"
      ],
      "metadata": {
        "colab": {
          "base_uri": "https://localhost:8080/"
        },
        "id": "bYzQ0XejFYSb",
        "outputId": "61b9cc30-ce80-4035-b545-b877ce4a4ec2"
      },
      "execution_count": 7,
      "outputs": [
        {
          "output_type": "stream",
          "name": "stdout",
          "text": [
            "Kredisi 3 olan CMP1005 kodlu dersin kontenjanı 30 kişidir.\n",
            "Kredisi 4 olan PSY1001 kodlu dersin kontenjanı 75 kişidir.\n",
            "Kredisi 2 olan HUK1005 kodlu dersin kontenjanı 150 kişidir.\n",
            "Kredisi 4 olan SEN2204 kodlu dersin kontenjanı 25 kişidir.\n"
          ]
        }
      ]
    },
    {
      "cell_type": "markdown",
      "source": [
        "### GÖREV 8: Aşağıda 2 adet set verilmiştir. Sizden istenilen eğer 1. küme 2. kümeyi kapsiyor ise ortak elemanlarını eğer kapsamıyor ise 2. kümenin 1. kümeden farkını yazdıracak fonksiyonu tanımlamanız beklenmektedir.\n"
      ],
      "metadata": {
        "id": "3hyDaVwNFwgU"
      }
    },
    {
      "cell_type": "code",
      "source": [
        "kume1 = set([\"data\", \"python\"])\n",
        "kume2 = set([\"data\", \"function\", \"qcut\", \"lambda\", \"python\", \"miuul\"])"
      ],
      "metadata": {
        "id": "azZNmcrHFv_x"
      },
      "execution_count": 8,
      "outputs": []
    },
    {
      "cell_type": "code",
      "source": [
        "def kume(set1,set2):\n",
        "    if set1.issuperset(set2):\n",
        "        print(set1.intersection(set2))\n",
        "    else:\n",
        "        print(set2.difference(set1))\n",
        "\n",
        "kume(kume1,kume2)"
      ],
      "metadata": {
        "colab": {
          "base_uri": "https://localhost:8080/"
        },
        "id": "z8KzQyniF6jE",
        "outputId": "9763ff75-95aa-47c4-ee9b-11c29578c57b"
      },
      "execution_count": 10,
      "outputs": [
        {
          "output_type": "stream",
          "name": "stdout",
          "text": [
            "{'function', 'lambda', 'qcut', 'miuul'}\n"
          ]
        }
      ]
    }
  ]
}